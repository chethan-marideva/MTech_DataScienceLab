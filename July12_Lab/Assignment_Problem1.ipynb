{
 "cells": [
  {
   "cell_type": "markdown",
   "id": "ba68e664",
   "metadata": {},
   "source": [
    "Problem 1: [7 marks]\n",
    "1. Use California Housing Dataset:\n",
    "from sklearn.datasets import fetch_california_housing\n",
    "2. Perform an 80:20 train/test split, followed by an 80:20 train/validation split from the\n",
    "trainset. Perform standard Scaling on all splits.\n",
    "3. Perform Linear Regression and Non-Linear Regression using an appropriate Polynomial\n",
    "curve to reduce error on the Train and Validation Datasets. To prevent Overfitting, use L2\n",
    "Regularizer with appropriate Lambda values. (Optimize for 100 Epochs)\n",
    "4. Plot the loss vs epoch curve on different parameters of Polynomial degree and Lambda\n",
    "values on the Train and validation sets to choose appropriate values.\n",
    "5. Predict on the Test set for any top-3 fine-tuned models.\n",
    "6. Print SSE, R2 scores for Train, Validation, and Test Sets for top-3 Models"
   ]
  }
 ],
 "metadata": {
  "language_info": {
   "name": "python"
  }
 },
 "nbformat": 4,
 "nbformat_minor": 5
}
