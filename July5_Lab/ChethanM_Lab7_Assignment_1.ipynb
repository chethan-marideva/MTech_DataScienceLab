{
 "cells": [
  {
   "cell_type": "markdown",
   "id": "6134808d",
   "metadata": {},
   "source": [
    "1. (Admission predict Dataset)\n",
    "Using the supplied predictive variables (GRE score, TOEFL score, University Rating,\n",
    "etc.) in\n",
    "the given dataset and predict the admission chance of a new candidate using Linear\n",
    "Regression.\n",
    "1. Divide the data into the train-test split of 80:20.\n",
    "2. Implement the Linear Regression Model to Predict the chances of admission.\n",
    "3. Implement the Gradient Descent with SSE to Optimize the model for up to 100\n",
    "iterations and predict the test set.\n",
    "4. Print the Coefficients of the Optimized model.\n",
    "5. Print the SSE, MSE, and R2 scores for the Train and Test Sets."
   ]
  },
  {
   "cell_type": "code",
   "execution_count": null,
   "id": "4cd2ceb4",
   "metadata": {},
   "outputs": [],
   "source": [
    "import pandas as pd \n",
    "\n",
    "admission_df= pd.read_csv('data/For Assignment 7 Admission_Predict_.csv')\n",
    "\n",
    "admission_df.head(5)\n",
    "\n"
   ]
  },
  {
   "cell_type": "code",
   "execution_count": null,
   "id": "1ca16365",
   "metadata": {},
   "outputs": [],
   "source": [
    "#admission_df.info()\n",
    "admission_df.describe()"
   ]
  },
  {
   "cell_type": "code",
   "execution_count": null,
   "id": "b2857332",
   "metadata": {},
   "outputs": [],
   "source": [
    "admission_df =admission_df.drop('Serial No.',axis=1) # no use of this data\n",
    "admission_df"
   ]
  },
  {
   "cell_type": "code",
   "execution_count": null,
   "id": "760a3edb",
   "metadata": {},
   "outputs": [],
   "source": [
    "admission_df.isnull().sum()"
   ]
  },
  {
   "cell_type": "code",
   "execution_count": null,
   "id": "d4a52a09",
   "metadata": {},
   "outputs": [],
   "source": [
    "import matplotlib.pyplot as plt\n",
    "import seaborn as sns\n",
    "\n",
    "admission_corr=admission_df.corr()\n",
    "\n",
    "plt.figure(figsize=(10,6))\n",
    "sns.heatmap(admission_corr,annot=True,cmap='coolwarm')\n",
    "plt.title('feature correlation')\n",
    "plt.show();"
   ]
  },
  {
   "cell_type": "code",
   "execution_count": null,
   "id": "8fab201b",
   "metadata": {},
   "outputs": [],
   "source": [
    "admission_df.corr()['Chance of Admit']"
   ]
  },
  {
   "cell_type": "code",
   "execution_count": null,
   "id": "7340a786",
   "metadata": {},
   "outputs": [],
   "source": [
    "from sklearn.model_selection import train_test_split\n",
    "from sklearn.linear_model import LinearRegression\n",
    "\n",
    "X= admission_df.drop('Chance of Admit',axis=1)\n",
    "y=admission_df['Chance of Admit']\n",
    "\n",
    "\n"
   ]
  },
  {
   "cell_type": "code",
   "execution_count": null,
   "id": "a6da7491",
   "metadata": {},
   "outputs": [],
   "source": [
    "X_train,X_test,y_train,y_test= train_test_split(X,y,test_size=0.2,random_state=42)"
   ]
  },
  {
   "cell_type": "code",
   "execution_count": null,
   "id": "37ea91f7",
   "metadata": {},
   "outputs": [],
   "source": [
    "model = LinearRegression()\n",
    "model.fit(X_train,y_train)"
   ]
  },
  {
   "cell_type": "code",
   "execution_count": null,
   "id": "83020f75",
   "metadata": {},
   "outputs": [],
   "source": [
    "y_pred=model.predict(X_test)\n",
    "y_pred_train=model.predict(X_train)"
   ]
  },
  {
   "cell_type": "code",
   "execution_count": null,
   "id": "133c0213",
   "metadata": {},
   "outputs": [],
   "source": [
    "from sklearn.metrics import mean_squared_error, r2_score\n",
    "\n",
    "\n",
    "mse = mean_squared_error(y_train, y_pred_train)\n",
    "r2 = r2_score(y_test, y_pred)\n",
    "\n",
    "print('mse:',mse)\n",
    "print('\\nR2',r2)\n",
    "\n",
    "mse = mean_squared_error(y_test, y_pred)\n",
    "r2 = r2_score(y_test, y_pred)\n",
    "\n",
    "print('\\nmse:',mse)\n",
    "print('\\nR2',r2)\n"
   ]
  }
 ],
 "metadata": {
  "kernelspec": {
   "display_name": "venv",
   "language": "python",
   "name": "python3"
  },
  "language_info": {
   "codemirror_mode": {
    "name": "ipython",
    "version": 3
   },
   "file_extension": ".py",
   "mimetype": "text/x-python",
   "name": "python",
   "nbconvert_exporter": "python",
   "pygments_lexer": "ipython3",
   "version": "3.13.3"
  }
 },
 "nbformat": 4,
 "nbformat_minor": 5
}
