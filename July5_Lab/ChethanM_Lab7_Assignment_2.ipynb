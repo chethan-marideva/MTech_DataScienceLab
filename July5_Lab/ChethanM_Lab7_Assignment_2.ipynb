{
 "cells": [
  {
   "cell_type": "markdown",
   "id": "6f511099",
   "metadata": {},
   "source": [
    "Step-1:\n",
    "Define input array X with angles from 60 deg to 360 deg converted in radians."
   ]
  },
  {
   "cell_type": "code",
   "execution_count": null,
   "id": "ab9ca6ac",
   "metadata": {},
   "outputs": [],
   "source": [
    "import numpy as np\n",
    "\n",
    "\n",
    "X_degree = np.arange(60, 361, 1)\n",
    "X_rad = np.radians(X_degree)\n",
    "X = X_rad.reshape(-1, 1)\n",
    "\n",
    "X.shape\n"
   ]
  },
  {
   "cell_type": "markdown",
   "id": "78abc1f5",
   "metadata": {},
   "source": [
    "Step-2: Compute Y as Y=[Sin(X)+Cos(X)] + K^2\n",
    "where K is a random number generated from normal distribution with 0.5 mean and\n",
    "0.15 std dev."
   ]
  },
  {
   "cell_type": "code",
   "execution_count": null,
   "id": "64021542",
   "metadata": {},
   "outputs": [],
   "source": [
    "np.random.seed(42)\n",
    "K = np.random.normal(loc=0.5, scale=0.15, size=X.shape[0])\n",
    "Y = (np.sin(X.flatten()) + np.cos(X.flatten())) + K**2\n",
    "Y = Y.reshape(-1, 1)"
   ]
  },
  {
   "cell_type": "markdown",
   "id": "ea9e1ec5",
   "metadata": {},
   "source": [
    "Step-3: Create Linear Regression model with SSE as error, and different Non-Linear\n",
    "Regression models of 3, 13th and 15th degree polynomials on data created in step-1\n",
    "and step-2. \n",
    "\n",
    "Step-4: Plot the created models for the power of 1, 3,13, 15, and print the SSE,\n",
    "Coefficients for the plotted models, and print the prediction of test set on 15th Deg.\n",
    "Polynomial model.\n"
   ]
  },
  {
   "cell_type": "code",
   "execution_count": null,
   "id": "5a28a275",
   "metadata": {},
   "outputs": [],
   "source": [
    "import matplotlib.pyplot as plt\n",
    "from sklearn.model_selection import train_test_split\n",
    "from sklearn.linear_model import LinearRegression, Ridge\n",
    "from sklearn.preprocessing import PolynomialFeatures\n",
    "from sklearn.metrics import mean_squared_error\n",
    "\n",
    "\n",
    "X_train, X_test, Y_train, Y_test = train_test_split(X, Y, test_size=0.2, random_state=42)"
   ]
  },
  {
   "cell_type": "code",
   "execution_count": null,
   "id": "ce59cac7",
   "metadata": {},
   "outputs": [],
   "source": [
    "def fit_poly_model(X_train, Y_train, X_test, Y_test, degree):\n",
    "    poly = PolynomialFeatures(degree)\n",
    "    X_train_poly = poly.fit_transform(X_train)\n",
    "    X_test_poly = poly.transform(X_test)\n",
    "    \n",
    "    model = LinearRegression()\n",
    "    model.fit(X_train_poly, Y_train)\n",
    "    Y_pred = model.predict(X_test_poly)\n",
    "    sse = np.sum((Y_test - Y_pred)**2)\n",
    "    \n",
    "    return model, poly, sse, model.coef_\n",
    "\n",
    "\n",
    "degrees = [1, 3, 13, 15]\n",
    "models = {}\n",
    "\n",
    "plt.figure(figsize=(14, 8))\n",
    "X_plot = np.linspace(min(X.flatten()), max(X.flatten()), 300).reshape(-1, 1)\n",
    "\n",
    "for degree in degrees:\n",
    "    model, poly, sse, coefs = fit_poly_model(X_train, Y_train, X_test, Y_test, degree)\n",
    "    Y_plot = model.predict(poly.transform(X_plot))\n",
    "    \n",
    "    plt.plot(X_plot, Y_plot, label=f'Degree {degree}')\n",
    "    models[degree] = {\n",
    "        'model': model,\n",
    "        'poly': poly,\n",
    "        'sse': sse,\n",
    "        'coefs': coefs\n",
    "    }\n",
    "    print('\\nDegree: ',degree)\n",
    "    print('\\nSSE: ',sse)\n",
    "    print('Coefficients :',coefs)\n",
    "\n",
    "# Prediction for 15th degree on test set\n",
    "pred_15 = models[15]['model'].predict(models[15]['poly'].transform(X_test))\n",
    "print('\\nPrediction on 15th degree model (test set):')\n",
    "print(pred_15.flatten())\n",
    "\n",
    "plt.scatter(X, Y, color='black', label='Data')\n",
    "plt.legend()\n",
    "plt.title('Polynomial regression ')\n",
    "plt.xlabel('X (radians)')\n",
    "plt.ylabel('Y')\n",
    "plt.grid(True)\n",
    "plt.show()\n",
    "\n"
   ]
  },
  {
   "cell_type": "markdown",
   "id": "ac5302e3",
   "metadata": {},
   "source": [
    "Step-5: Add the L2 regularization to the nonlinear regression model with 15th degree\n",
    "polynomial created in Step 3. (Optimize for Max. of 50 Iterations and lambda values\n",
    "[1e-10 and 1e-5])\n",
    "\n",
    "Step-6: Plot the Ridge (L2) regression models for lambda values [1e-10 and 1e-5] and\n",
    "print the SSE, Coefficients for the plotted models, and print the prediction of test set\n",
    "on 15th Deg. Polynomial model."
   ]
  },
  {
   "cell_type": "code",
   "execution_count": null,
   "id": "e39a39a1",
   "metadata": {},
   "outputs": [],
   "source": [
    "\n",
    "lambdas = [1e-10, 1e-5]\n",
    "degree = 15\n",
    "\n",
    "plt.figure(figsize=(10, 6))\n",
    "for lam in lambdas:\n",
    "    poly = PolynomialFeatures(degree)\n",
    "    X_train_poly = poly.fit_transform(X_train)\n",
    "    X_test_poly = poly.transform(X_test)\n",
    "    X_plot_poly = poly.transform(X_plot)\n",
    "\n",
    "    ridge_model = Ridge(alpha=lam, max_iter=50)\n",
    "    ridge_model.fit(X_train_poly, Y_train)\n",
    "    Y_plot_ridge = ridge_model.predict(X_plot_poly)\n",
    "    \n",
    "    sse_ridge = np.sum((Y_test - ridge_model.predict(X_test_poly))**2)\n",
    "    \n",
    "    plt.plot(X_plot, Y_plot_ridge, label=f'Ridge{lam}')\n",
    "    print('\\n ridge regression :',lam)\n",
    "    print('\\n SSE: ',sse_ridge)\n",
    "    print('\\n coefficients: ',ridge_model.coef_)\n",
    "    print('\\n prediction on test set:\\n',ridge_model.predict(X_test_poly).flatten())\n",
    "\n",
    "plt.scatter(X, Y, color='black', label='Data')\n",
    "plt.legend()\n",
    "plt.title('ridge regression L2 with 15th degree polynomial')\n",
    "plt.xlabel('radians')\n",
    "plt.ylabel('Y')\n",
    "plt.grid(True)\n",
    "plt.show()\n"
   ]
  }
 ],
 "metadata": {
  "kernelspec": {
   "display_name": "venv",
   "language": "python",
   "name": "python3"
  },
  "language_info": {
   "codemirror_mode": {
    "name": "ipython",
    "version": 3
   },
   "file_extension": ".py",
   "mimetype": "text/x-python",
   "name": "python",
   "nbconvert_exporter": "python",
   "pygments_lexer": "ipython3",
   "version": "3.13.3"
  }
 },
 "nbformat": 4,
 "nbformat_minor": 5
}
