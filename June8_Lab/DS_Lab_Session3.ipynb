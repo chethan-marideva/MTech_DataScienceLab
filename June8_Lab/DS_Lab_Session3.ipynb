{
  "cells": [
    {
      "cell_type": "markdown",
      "metadata": {
        "id": "tXqKf11OV2QR"
      },
      "source": [
        "**Introduction to Data Processing**"
      ]
    },
    {
      "cell_type": "markdown",
      "metadata": {
        "id": "lhC71JLYWB52"
      },
      "source": [
        "Types of Data"
      ]
    },
    {
      "cell_type": "code",
      "execution_count": 7,
      "metadata": {
        "colab": {
          "base_uri": "https://localhost:8080/"
        },
        "id": "SfZky2dlVzIA",
        "outputId": "d6676f85-de71-4286-e96b-2d5dd33bc426"
      },
      "outputs": [
        {
          "name": "stdout",
          "output_type": "stream",
          "text": [
            "   Continuous  Discrete Categorical\n",
            "0       180.5         1         Red\n",
            "1       165.2         2       Green\n",
            "2       172.1         3        Blue\n"
          ]
        }
      ],
      "source": [
        "import pandas as pd\n",
        "\n",
        "# Example Data\n",
        "data = pd.DataFrame({\n",
        "    'Continuous': [180.5, 165.2, 172.1],\n",
        "    'Discrete': [1, 2, 3],\n",
        "    'Categorical': ['Red', 'Green', 'Blue']\n",
        "})\n",
        "\n",
        "print(data)\n"
      ]
    },
    {
      "cell_type": "markdown",
      "metadata": {
        "id": "xajEYWWpWNT3"
      },
      "source": [
        "**Feature Scaling**"
      ]
    },
    {
      "cell_type": "markdown",
      "metadata": {
        "id": "RCrCFvTpWOOY"
      },
      "source": [
        "**Absolute Maximum Scaling**"
      ]
    },
    {
      "cell_type": "code",
      "execution_count": 8,
      "metadata": {
        "colab": {
          "base_uri": "https://localhost:8080/"
        },
        "id": "iJ0XgLuzWQJw",
        "outputId": "31f519ee-83d4-4418-d068-40f8a7993f3a"
      },
      "outputs": [
        {
          "name": "stdout",
          "output_type": "stream",
          "text": [
            "[[ 0.33333333]\n",
            " [-0.66666667]\n",
            " [ 1.        ]]\n"
          ]
        }
      ],
      "source": [
        "import numpy as np\n",
        "\n",
        "X = np.array([[5], [-10], [15]])\n",
        "X_scaled = X / np.max(np.abs(X))\n",
        "print(X_scaled)\n"
      ]
    },
    {
      "cell_type": "markdown",
      "metadata": {
        "id": "_c_mHCFvWVcL"
      },
      "source": [
        "**Min-Max Scaling**"
      ]
    },
    {
      "cell_type": "code",
      "execution_count": 13,
      "metadata": {
        "colab": {
          "base_uri": "https://localhost:8080/"
        },
        "id": "72bTnr4aWVHo",
        "outputId": "065bd393-dbd0-4c77-8bdd-2cefaf05bd86"
      },
      "outputs": [
        {
          "name": "stdout",
          "output_type": "stream",
          "text": [
            "[[0. ]\n",
            " [0.5]\n",
            " [1. ]]\n"
          ]
        }
      ],
      "source": [
        "from sklearn.preprocessing import MinMaxScaler\n",
        "\n",
        "X = np.array([[10], [20], [30]])\n",
        "scaler = MinMaxScaler()\n",
        "X_minmax = scaler.fit_transform(X)\n",
        "print(X_minmax)\n"
      ]
    },
    {
      "cell_type": "markdown",
      "metadata": {
        "id": "q5qcMA3hWcAg"
      },
      "source": [
        "** Normalization (L2)**"
      ]
    },
    {
      "cell_type": "code",
      "execution_count": 15,
      "metadata": {
        "colab": {
          "base_uri": "https://localhost:8080/"
        },
        "id": "ZB2_8UkUWcfy",
        "outputId": "75cef5d8-287f-491f-b28f-c55db3cab063"
      },
      "outputs": [
        {
          "name": "stdout",
          "output_type": "stream",
          "text": [
            "[[0.4472136  0.89442719]\n",
            " [0.4472136  0.89442719]]\n"
          ]
        }
      ],
      "source": [
        "from sklearn.preprocessing import Normalizer\n",
        "\n",
        "X = np.array([[1, 2], [2, 4]])\n",
        "normalizer = Normalizer(norm='l2')\n",
        "X_norm = normalizer.fit_transform(X)\n",
        "print(X_norm)\n"
      ]
    },
    {
      "cell_type": "markdown",
      "metadata": {
        "id": "hUJHpY-fWgI_"
      },
      "source": [
        "**Standardization**"
      ]
    },
    {
      "cell_type": "code",
      "execution_count": 16,
      "metadata": {
        "colab": {
          "base_uri": "https://localhost:8080/"
        },
        "id": "Tu6VmG8mWgqY",
        "outputId": "9d0ea4c6-d36f-4837-920f-bd9ac37b0348"
      },
      "outputs": [
        {
          "name": "stdout",
          "output_type": "stream",
          "text": [
            "[[-1.22474487]\n",
            " [ 0.        ]\n",
            " [ 1.22474487]]\n"
          ]
        }
      ],
      "source": [
        "from sklearn.preprocessing import StandardScaler\n",
        "\n",
        "X = np.array([[10], [20], [30]])\n",
        "scaler = StandardScaler()\n",
        "X_std = scaler.fit_transform(X)\n",
        "print(X_std)\n"
      ]
    },
    {
      "cell_type": "markdown",
      "metadata": {
        "id": "mwkKtliLWjTM"
      },
      "source": [
        "**Importing Dataset**"
      ]
    },
    {
      "cell_type": "code",
      "execution_count": 17,
      "metadata": {
        "colab": {
          "base_uri": "https://localhost:8080/"
        },
        "id": "Bd6LM0VRWll6",
        "outputId": "1aa5c66f-c550-49ce-afb9-85cc6d6e82e4"
      },
      "outputs": [
        {
          "name": "stdout",
          "output_type": "stream",
          "text": [
            "   0      1     2     3     4    5     6     7     8     9     10    11    12  \\\n",
            "0   1  14.23  1.71  2.43  15.6  127  2.80  3.06  0.28  2.29  5.64  1.04  3.92   \n",
            "1   1  13.20  1.78  2.14  11.2  100  2.65  2.76  0.26  1.28  4.38  1.05  3.40   \n",
            "2   1  13.16  2.36  2.67  18.6  101  2.80  3.24  0.30  2.81  5.68  1.03  3.17   \n",
            "3   1  14.37  1.95  2.50  16.8  113  3.85  3.49  0.24  2.18  7.80  0.86  3.45   \n",
            "4   1  13.24  2.59  2.87  21.0  118  2.80  2.69  0.39  1.82  4.32  1.04  2.93   \n",
            "\n",
            "     13  \n",
            "0  1065  \n",
            "1  1050  \n",
            "2  1185  \n",
            "3  1480  \n",
            "4   735  \n"
          ]
        }
      ],
      "source": [
        "import pandas as pd\n",
        "\n",
        "url = \"https://raw.githubusercontent.com/rasbt/pattern_classification/master/data/wine_data.csv\"\n",
        "df = pd.read_csv(url, header=None)\n",
        "\n",
        "# Show first 5 rows\n",
        "print(df.head())\n"
      ]
    },
    {
      "cell_type": "markdown",
      "metadata": {
        "id": "o-Lssjs3Wud_"
      },
      "source": [
        "**Handling Missing Data**"
      ]
    },
    {
      "cell_type": "code",
      "execution_count": 18,
      "metadata": {
        "colab": {
          "base_uri": "https://localhost:8080/"
        },
        "id": "SmqdDhDDWvEf",
        "outputId": "790b66f2-da2f-44b8-e373-db4db6a40604"
      },
      "outputs": [
        {
          "name": "stdout",
          "output_type": "stream",
          "text": [
            "   Temperature  Humidity\n",
            "0         22.0      30.0\n",
            "1         25.0      45.0\n",
            "2         25.0      45.0\n",
            "3         25.0      50.0\n",
            "4         28.0      55.0\n"
          ]
        }
      ],
      "source": [
        "import pandas as pd\n",
        "import numpy as np\n",
        "\n",
        "data = pd.DataFrame({\n",
        "    'Temperature': [22, np.nan, 25, np.nan, 28],\n",
        "    'Humidity': [30, 45, np.nan, 50, 55]\n",
        "})\n",
        "\n",
        "# Fill missing with mean\n",
        "data_filled = data.fillna(data.mean(numeric_only=True))\n",
        "print(data_filled)\n"
      ]
    },
    {
      "cell_type": "markdown",
      "metadata": {
        "id": "qzFjGPmJW0rH"
      },
      "source": [
        "**Categorical Data**"
      ]
    },
    {
      "cell_type": "code",
      "execution_count": 19,
      "metadata": {
        "colab": {
          "base_uri": "https://localhost:8080/"
        },
        "id": "wksWIiS3W1Qu",
        "outputId": "8a4f13c3-9a16-4904-8a5c-fb13c81b80ce"
      },
      "outputs": [
        {
          "name": "stdout",
          "output_type": "stream",
          "text": [
            "   Color_Blue  Color_Green  Color_Red\n",
            "0       False        False       True\n",
            "1       False         True      False\n",
            "2        True        False      False\n",
            "3       False        False       True\n"
          ]
        }
      ],
      "source": [
        "import pandas as pd\n",
        "\n",
        "data = pd.DataFrame({\n",
        "    'Color': ['Red', 'Green', 'Blue', 'Red']\n",
        "})\n",
        "\n",
        "# One-Hot Encoding\n",
        "encoded_data = pd.get_dummies(data)\n",
        "print(encoded_data)\n"
      ]
    },
    {
      "cell_type": "markdown",
      "metadata": {
        "id": "MxaYYjsUXIRU"
      },
      "source": [
        "**Introduction (Why Preprocessing?)**"
      ]
    },
    {
      "cell_type": "code",
      "execution_count": 20,
      "metadata": {
        "colab": {
          "base_uri": "https://localhost:8080/"
        },
        "id": "vwxz2DU_XJIL",
        "outputId": "902ce1bb-e1a0-4632-8e3d-6ccadb4585e8"
      },
      "outputs": [
        {
          "name": "stdout",
          "output_type": "stream",
          "text": [
            "Raw Data:\n",
            "    Age  Gender   Salary\n",
            "0  25.0    Male  50000.0\n",
            "1   NaN  Female  60000.0\n",
            "2  30.0    None      NaN\n",
            "3  28.0    Male  58000.0\n"
          ]
        }
      ],
      "source": [
        "# Real-world scenario: messy survey data\n",
        "import pandas as pd\n",
        "\n",
        "raw_data = pd.DataFrame({\n",
        "    'Age': [25, None, 30, 28],\n",
        "    'Gender': ['Male', 'Female', None, 'Male'],\n",
        "    'Salary': [50000, 60000, None, 58000]\n",
        "})\n",
        "\n",
        "print(\"Raw Data:\")\n",
        "print(raw_data)\n"
      ]
    },
    {
      "cell_type": "markdown",
      "metadata": {
        "id": "2P9AX8nyXMSG"
      },
      "source": [
        "**More on Data Types**"
      ]
    },
    {
      "cell_type": "code",
      "execution_count": 21,
      "metadata": {
        "colab": {
          "base_uri": "https://localhost:8080/"
        },
        "id": "OstrEazeXM6w",
        "outputId": "fd2945d5-677a-4b83-dfa2-3cc1fdb38154"
      },
      "outputs": [
        {
          "name": "stdout",
          "output_type": "stream",
          "text": [
            "Data Types:\n",
            "Student ID       int64\n",
            "Score          float64\n",
            "Grade         category\n",
            "dtype: object\n",
            "\n",
            "Data Preview:\n",
            "   Student ID  Score Grade\n",
            "0         101   85.5     A\n",
            "1         102   90.0    A+\n",
            "2         103   76.0     B\n"
          ]
        }
      ],
      "source": [
        "# Using dtype and category\n",
        "data = pd.DataFrame({\n",
        "    'Student ID': [101, 102, 103],\n",
        "    'Score': [85.5, 90.0, 76.0],\n",
        "    'Grade': pd.Series(['A', 'A+', 'B'], dtype=\"category\")\n",
        "})\n",
        "\n",
        "print(\"Data Types:\")\n",
        "print(data.dtypes)\n",
        "print(\"\\nData Preview:\")\n",
        "print(data)\n"
      ]
    },
    {
      "cell_type": "markdown",
      "metadata": {
        "id": "j47jDrB7XSP0"
      },
      "source": [
        "**Feature Scaling – More Examples**"
      ]
    },
    {
      "cell_type": "markdown",
      "metadata": {
        "id": "YQo061c1XVIR"
      },
      "source": [
        "**Absolute Maximum Scaling (multiple features)**"
      ]
    },
    {
      "cell_type": "code",
      "execution_count": 22,
      "metadata": {
        "colab": {
          "base_uri": "https://localhost:8080/"
        },
        "id": "nZUV-UyqXU3z",
        "outputId": "ac2d5c4c-5856-49d3-c668-60875ba1de68"
      },
      "outputs": [
        {
          "name": "stdout",
          "output_type": "stream",
          "text": [
            "[[ 0.2   0.67]\n",
            " [-0.4   0.5 ]\n",
            " [ 1.   -1.  ]]\n"
          ]
        }
      ],
      "source": [
        "import numpy as np\n",
        "\n",
        "X = np.array([[2, 20], [-4, 15], [10, -30]])\n",
        "X_scaled = X / np.max(np.abs(X), axis=0)\n",
        "print(np.round(X_scaled, 2))\n"
      ]
    },
    {
      "cell_type": "markdown",
      "metadata": {
        "id": "kw1BecHmXcln"
      },
      "source": [
        "**Importing Dataset (CSV from Google Drive)**"
      ]
    },
    {
      "cell_type": "code",
      "execution_count": 23,
      "metadata": {
        "colab": {
          "base_uri": "https://localhost:8080/"
        },
        "id": "b6-8ZE_5XdS-",
        "outputId": "95fd0aa2-a75e-4365-98d5-ee34d486c4b1"
      },
      "outputs": [
        {
          "ename": "ModuleNotFoundError",
          "evalue": "No module named 'google'",
          "output_type": "error",
          "traceback": [
            "\u001b[31m---------------------------------------------------------------------------\u001b[39m",
            "\u001b[31mModuleNotFoundError\u001b[39m                       Traceback (most recent call last)",
            "\u001b[36mCell\u001b[39m\u001b[36m \u001b[39m\u001b[32mIn[23]\u001b[39m\u001b[32m, line 2\u001b[39m\n\u001b[32m      1\u001b[39m \u001b[38;5;66;03m# Mount Google Drive\u001b[39;00m\n\u001b[32m----> \u001b[39m\u001b[32m2\u001b[39m \u001b[38;5;28;01mfrom\u001b[39;00m\u001b[38;5;250m \u001b[39m\u001b[34;01mgoogle\u001b[39;00m\u001b[34;01m.\u001b[39;00m\u001b[34;01mcolab\u001b[39;00m\u001b[38;5;250m \u001b[39m\u001b[38;5;28;01mimport\u001b[39;00m drive\n\u001b[32m      3\u001b[39m drive.mount(\u001b[33m'\u001b[39m\u001b[33m/content/drive\u001b[39m\u001b[33m'\u001b[39m)\n\u001b[32m      5\u001b[39m \u001b[38;5;66;03m# Example path\u001b[39;00m\n",
            "\u001b[31mModuleNotFoundError\u001b[39m: No module named 'google'"
          ]
        }
      ],
      "source": [
        "# Mount Google Drive\n",
        "from google.colab import drive\n",
        "drive.mount('/content/drive')\n",
        "\n",
        "# Example path\n",
        "file_path = '/content/forestfires.csv'  # Upload a CSV first\n",
        "df = pd.read_csv(file_path)\n",
        "print(df.head())\n"
      ]
    },
    {
      "cell_type": "markdown",
      "metadata": {
        "id": "eRQEZoM0Xw5n"
      },
      "source": [
        "**Handling Missing Data (Advanced)**"
      ]
    },
    {
      "cell_type": "code",
      "execution_count": 24,
      "metadata": {
        "colab": {
          "base_uri": "https://localhost:8080/"
        },
        "id": "FjTJ6C8lXxkI",
        "outputId": "ea21bc7c-542a-47bf-8d5c-6cc20f7135c5"
      },
      "outputs": [
        {
          "name": "stdout",
          "output_type": "stream",
          "text": [
            "    Age   Income\n",
            "0  25.0  40000.0\n",
            "1  28.0  50000.0\n",
            "2  30.0  50000.0\n",
            "3  28.0  60000.0\n"
          ]
        }
      ],
      "source": [
        "import pandas as pd\n",
        "import numpy as np\n",
        "\n",
        "df = pd.DataFrame({\n",
        "    'Age': [25, np.nan, 30, 28],\n",
        "    'Income': [40000, 50000, np.nan, 60000]\n",
        "})\n",
        "\n",
        "# Strategy: Fill age with median, income with mean\n",
        "df['Age'] = df['Age'].fillna(df['Age'].median())\n",
        "df['Income'] = df['Income'].fillna(df['Income'].mean())\n",
        "\n",
        "print(df)\n"
      ]
    },
    {
      "cell_type": "markdown",
      "metadata": {
        "id": "s72ZcJABX1hI"
      },
      "source": [
        "**Categorical Data (Label Encoding)**"
      ]
    },
    {
      "cell_type": "code",
      "execution_count": 25,
      "metadata": {
        "colab": {
          "base_uri": "https://localhost:8080/"
        },
        "id": "OeOHQypRX2Bl",
        "outputId": "e7534501-a4b1-482c-8f7d-ac6f0f376a3f"
      },
      "outputs": [
        {
          "name": "stdout",
          "output_type": "stream",
          "text": [
            "    Fruit  Fruit_Label\n",
            "0   Apple            0\n",
            "1  Banana            1\n",
            "2   Mango            2\n",
            "3   Apple            0\n"
          ]
        }
      ],
      "source": [
        "from sklearn.preprocessing import LabelEncoder\n",
        "\n",
        "df = pd.DataFrame({\n",
        "    'Fruit': ['Apple', 'Banana', 'Mango', 'Apple']\n",
        "})\n",
        "\n",
        "le = LabelEncoder()\n",
        "df['Fruit_Label'] = le.fit_transform(df['Fruit'])\n",
        "\n",
        "print(df)\n"
      ]
    },
    {
      "cell_type": "markdown",
      "metadata": {
        "id": "l8mFjTUYX5f5"
      },
      "source": [
        "**Combined Scaling + Encoding Example**"
      ]
    },
    {
      "cell_type": "code",
      "execution_count": 26,
      "metadata": {
        "colab": {
          "base_uri": "https://localhost:8080/"
        },
        "id": "v8O4XHjxX6Ak",
        "outputId": "edaab039-78c2-4600-816c-089cd8adf661"
      },
      "outputs": [
        {
          "name": "stdout",
          "output_type": "stream",
          "text": [
            "[[-1.22474487  0.          1.          0.        ]\n",
            " [ 0.          0.          0.          1.        ]\n",
            " [ 1.22474487  1.          0.          0.        ]]\n"
          ]
        }
      ],
      "source": [
        "from sklearn.preprocessing import StandardScaler, OneHotEncoder\n",
        "from sklearn.compose import ColumnTransformer\n",
        "from sklearn.pipeline import Pipeline\n",
        "\n",
        "df = pd.DataFrame({\n",
        "    'Age': [20, 30, 40],\n",
        "    'City': ['Delhi', 'Mumbai', 'Bangalore']\n",
        "})\n",
        "\n",
        "# Column Transformer Pipeline\n",
        "ct = ColumnTransformer(transformers=[\n",
        "    ('num', StandardScaler(), ['Age']),\n",
        "    ('cat', OneHotEncoder(), ['City'])\n",
        "])\n",
        "\n",
        "output = ct.fit_transform(df)\n",
        "print(output.toarray() if hasattr(output, 'toarray') else output)\n"
      ]
    }
  ],
  "metadata": {
    "colab": {
      "provenance": []
    },
    "kernelspec": {
      "display_name": ".venv",
      "language": "python",
      "name": "python3"
    },
    "language_info": {
      "codemirror_mode": {
        "name": "ipython",
        "version": 3
      },
      "file_extension": ".py",
      "mimetype": "text/x-python",
      "name": "python",
      "nbconvert_exporter": "python",
      "pygments_lexer": "ipython3",
      "version": "3.13.3"
    }
  },
  "nbformat": 4,
  "nbformat_minor": 0
}
