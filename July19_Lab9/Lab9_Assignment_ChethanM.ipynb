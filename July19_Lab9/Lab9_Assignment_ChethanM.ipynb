{
 "cells": [
  {
   "cell_type": "markdown",
   "id": "f551a879",
   "metadata": {},
   "source": [
    "Identify the suitable statistical tests (Z-test, t-test, and their variants), and solve the following\n",
    "problems using python.\n",
    "A factory claims the mean weight of its cereal boxes is 500 grams with a standard deviation\n",
    "of 10 grams. A quality inspector collects a random sample of 36 boxes and finds an average\n",
    "weight of 497 grams. At a 5% significance level, test whether the true mean weight is less\n",
    "than the claimed value."
   ]
  },
  {
   "cell_type": "code",
   "execution_count": 11,
   "id": "4e4cdfb0",
   "metadata": {},
   "outputs": [
    {
     "name": "stdout",
     "output_type": "stream",
     "text": [
      "Z statistic -  -1.7999999999999998\n",
      "P value -  0.03593031911292581\n",
      "\n",
      "The test shows that the average weight is likely less than 500 grams\n"
     ]
    }
   ],
   "source": [
    "import numpy as np\n",
    "from scipy.stats import norm\n",
    "\n",
    "mu = 500    \n",
    "sigma = 10\n",
    "x_bar = 497\n",
    "n = 36\n",
    "alpha = 0.05\n",
    "\n",
    "#Using Z Test\n",
    "\n",
    "z = (x_bar - mu) / (sigma / np.sqrt(n))\n",
    "p_value = norm.cdf(z)\n",
    "\n",
    "print('Z statistic - ',z)\n",
    "print('P value - ',p_value)\n",
    "\n",
    "if p_value < alpha:\n",
    "    print('\\nThe test shows that the average weight is likely less than 500 grams')\n",
    "else:\n",
    "    print('\\nThe test does not show enough evidence that the average weight is less than 500 grams')\n"
   ]
  },
  {
   "cell_type": "markdown",
   "id": "7bb1b75d",
   "metadata": {},
   "source": [
    "A company wants to compare the average number of tickets resolved per day by employees\n",
    "in two call centres.\n",
    "Kolkata: 𝑥̅1=750, σ1=20, n1=40\n",
    "Delhi: 𝑥̅2=780, σ2=25, n2=40"
   ]
  },
  {
   "cell_type": "code",
   "execution_count": 12,
   "id": "533134cd",
   "metadata": {},
   "outputs": [
    {
     "name": "stdout",
     "output_type": "stream",
     "text": [
      "Z statistic: -5.9263775798975376\n",
      "P value: 3.0969005138103967e-09\n",
      "Reject H0 significant difference in ticket resolution\n"
     ]
    }
   ],
   "source": [
    "x1, sigma1, n1 = 750, 20, 40\n",
    "x2, sigma2, n2 = 780, 25, 40\n",
    "alpha = 0.05\n",
    "\n",
    "\n",
    "z = (x1 - x2) / np.sqrt((sigma1**2 / n1) + (sigma2**2 / n2))\n",
    "p_value = 2 * (1 - norm.cdf(abs(z)))\n",
    "\n",
    "print('Z statistic:', z)\n",
    "print('P value:', p_value)\n",
    "if p_value < alpha:\n",
    "    print('Reject H0 significant difference in ticket resolution')\n",
    "else:\n",
    "    print('Fail to reject H0 no significant difference')"
   ]
  },
  {
   "cell_type": "markdown",
   "id": "4e1f3d5e",
   "metadata": {},
   "source": [
    "A dietician claims her new diet leads to an average weight loss of more than 4 kilograms\n",
    "after a month. To test this, she applies the diet to 8 volunteers and records their weight loss\n",
    "as follows (kg): 3.5, 4.8, 5.0, 2.9, 4.2, 5.1, 3.9, 4.7. Using a 0.05 significance level, test if the\n",
    "average weight loss exceeds 4 kg."
   ]
  },
  {
   "cell_type": "code",
   "execution_count": 13,
   "id": "667a2435",
   "metadata": {},
   "outputs": [
    {
     "name": "stdout",
     "output_type": "stream",
     "text": [
      "t statistic: 0.9474411138147613\n",
      "P value: 0.1874824877149004\n",
      "Fail to reject H0 no strong evidence of more than 4kg weight loss\n"
     ]
    }
   ],
   "source": [
    "from scipy.stats import t\n",
    "\n",
    "data = [3.5, 4.8, 5.0, 2.9, 4.2, 5.1, 3.9, 4.7]\n",
    "mu0 = 4\n",
    "alpha = 0.05\n",
    "n = len(data)\n",
    "x_bar = np.mean(data)\n",
    "s = np.std(data, ddof=1)\n",
    "\n",
    "t_stat = (x_bar - mu0) / (s / np.sqrt(n))\n",
    "p_value = 1 - t.cdf(t_stat, df=n-1)\n",
    "\n",
    "print('t statistic:', t_stat)\n",
    "print('P value:', p_value)\n",
    "if p_value < alpha:\n",
    "    print('Reject H0 average weight loss is significantly more than 4kg')\n",
    "else:\n",
    "    print('Fail to reject H0 no strong evidence of more than 4kg weight loss')"
   ]
  },
  {
   "cell_type": "markdown",
   "id": "6d62ec37",
   "metadata": {},
   "source": [
    "A teacher wants to know if there’s a difference in math scores between students taught using\n",
    "traditional methods and those taught using a new interactive method. She tests 12 students\n",
    "from each group and gets the following average scores:\n",
    "• Traditional Method: 78, 83, 91, 77, 76, 82, 87, 85, 79, 80, 84, 83\n",
    "• Interactive Method: 88, 91, 95, 90, 89, 87, 92, 93, 91, 90, 94, 88"
   ]
  },
  {
   "cell_type": "code",
   "execution_count": 14,
   "id": "3f580e23",
   "metadata": {},
   "outputs": [
    {
     "name": "stdout",
     "output_type": "stream",
     "text": [
      "t statistic: -5.897762843432848\n",
      "P value: 6.188566041376651e-06\n",
      "Reject H0 significant difference in mean scores\n"
     ]
    }
   ],
   "source": [
    "from scipy.stats import ttest_ind\n",
    "\n",
    "traditional = [78, 83, 91, 77, 76, 82, 87, 85, 79, 80, 84, 83]\n",
    "interactive = [88, 91, 95, 90, 89, 87, 92, 93, 91, 90, 94, 88]\n",
    "\n",
    "t_stat, p_value = ttest_ind(traditional, interactive, equal_var=True)\n",
    "\n",
    "print('t statistic:', t_stat)\n",
    "print('P value:', p_value)\n",
    "if p_value < 0.01:\n",
    "    print('Reject H0 significant difference in mean scores')\n",
    "else:\n",
    "    print('Fail to reject H0 no significant difference in scores')\n"
   ]
  },
  {
   "cell_type": "markdown",
   "id": "92f0a8b5",
   "metadata": {},
   "source": [
    "5. A company introduces a training program to increase employee productivity.\n",
    "The productivity scores of 10 employees before and after the training are recorded:\n",
    "Employee Before After\n",
    "1 70 75\n",
    "2 65 73\n",
    "3 80 78\n",
    "4 60 66\n",
    "5 76 77\n",
    "6 82 85\n",
    "7 68 70\n",
    "Employee Before After\n",
    "8 74 75\n",
    "9 71 74\n",
    "10 79 82\n",
    "Test at the 0.05 level if the training program had a significant effect on productivity."
   ]
  },
  {
   "cell_type": "code",
   "execution_count": 15,
   "id": "e2c3537c",
   "metadata": {},
   "outputs": [
    {
     "name": "stdout",
     "output_type": "stream",
     "text": [
      "t statistic: 3.3541019662496847\n",
      "P value: 0.00846815040315423\n",
      "Reject H0 training significantly affected productivity\n"
     ]
    }
   ],
   "source": [
    "from scipy.stats import ttest_rel\n",
    "\n",
    "before = [70, 65, 80, 60, 76, 82, 68, 74, 71, 79]\n",
    "after  = [75, 73, 78, 66, 77, 85, 70, 75, 74, 82]\n",
    "\n",
    "t_stat, p_value = ttest_rel(after, before)\n",
    "\n",
    "print('t statistic:', t_stat)\n",
    "print('P value:', p_value)\n",
    "if p_value < 0.05:\n",
    "    print('Reject H0 training significantly affected productivity')\n",
    "else:\n",
    "    print('Fail to reject H0 no significant effect detected')\n"
   ]
  }
 ],
 "metadata": {
  "kernelspec": {
   "display_name": "venv",
   "language": "python",
   "name": "python3"
  },
  "language_info": {
   "codemirror_mode": {
    "name": "ipython",
    "version": 3
   },
   "file_extension": ".py",
   "mimetype": "text/x-python",
   "name": "python",
   "nbconvert_exporter": "python",
   "pygments_lexer": "ipython3",
   "version": "3.13.3"
  }
 },
 "nbformat": 4,
 "nbformat_minor": 5
}
